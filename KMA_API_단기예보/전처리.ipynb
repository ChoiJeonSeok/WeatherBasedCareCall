{
 "cells": [
  {
   "cell_type": "code",
   "execution_count": 4,
   "id": "6e02ae49",
   "metadata": {},
   "outputs": [
    {
     "data": {
      "text/plain": [
       "'unique_region_grid_data.csv'"
      ]
     },
     "execution_count": 4,
     "metadata": {},
     "output_type": "execute_result"
    }
   ],
   "source": [
    "import pandas as pd\n",
    "\n",
    "# 업로드된 'region_grid_data.csv' 파일을 불러옵니다.\n",
    "uploaded_csv_path = 'region_grid_data.csv'\n",
    "region_grid_df = pd.read_csv(uploaded_csv_path, encoding='cp949')\n",
    "\n",
    "# '격자 X'와 '격자 Y' 컬럼의 이름을 각각 'nx'와 'ny'로 변경합니다.\n",
    "region_grid_df.rename(columns={'격자 X': 'nx', '격자 Y': 'ny'}, inplace=True)\n",
    "\n",
    "# 중복된 격자 좌표를 제거하여 각 격자 좌표당 하나의 데이터만 남깁니다.\n",
    "unique_grid_df = region_grid_df[['지역명', 'nx', 'ny']].drop_duplicates()\n",
    "\n",
    "# 변경된 데이터를 cp949 인코딩으로 새로운 CSV 파일로 저장합니다.\n",
    "unique_csv_file_path = 'unique_region_grid_data.csv'\n",
    "unique_grid_df.to_csv(unique_csv_file_path, index=False, encoding='cp949')\n",
    "\n",
    "unique_csv_file_path\n"
   ]
  },
  {
   "cell_type": "code",
   "execution_count": 7,
   "id": "9181cd59",
   "metadata": {},
   "outputs": [
    {
     "data": {
      "text/html": [
       "<div>\n",
       "<style scoped>\n",
       "    .dataframe tbody tr th:only-of-type {\n",
       "        vertical-align: middle;\n",
       "    }\n",
       "\n",
       "    .dataframe tbody tr th {\n",
       "        vertical-align: top;\n",
       "    }\n",
       "\n",
       "    .dataframe thead th {\n",
       "        text-align: right;\n",
       "    }\n",
       "</style>\n",
       "<table border=\"1\" class=\"dataframe\">\n",
       "  <thead>\n",
       "    <tr style=\"text-align: right;\">\n",
       "      <th></th>\n",
       "      <th>nx</th>\n",
       "      <th>ny</th>\n",
       "    </tr>\n",
       "  </thead>\n",
       "  <tbody>\n",
       "    <tr>\n",
       "      <th>0</th>\n",
       "      <td>60</td>\n",
       "      <td>127</td>\n",
       "    </tr>\n",
       "    <tr>\n",
       "      <th>1</th>\n",
       "      <td>61</td>\n",
       "      <td>127</td>\n",
       "    </tr>\n",
       "    <tr>\n",
       "      <th>2</th>\n",
       "      <td>60</td>\n",
       "      <td>126</td>\n",
       "    </tr>\n",
       "    <tr>\n",
       "      <th>3</th>\n",
       "      <td>59</td>\n",
       "      <td>126</td>\n",
       "    </tr>\n",
       "    <tr>\n",
       "      <th>4</th>\n",
       "      <td>61</td>\n",
       "      <td>126</td>\n",
       "    </tr>\n",
       "  </tbody>\n",
       "</table>\n",
       "</div>"
      ],
      "text/plain": [
       "   nx   ny\n",
       "0  60  127\n",
       "1  61  127\n",
       "2  60  126\n",
       "3  59  126\n",
       "4  61  126"
      ]
     },
     "execution_count": 7,
     "metadata": {},
     "output_type": "execute_result"
    }
   ],
   "source": [
    "# 제공된 region_grid_data.csv 파일을 불러옵니다.\n",
    "region_grid_data_path = 'region_grid_data.csv'\n",
    "region_grid_df = pd.read_csv(region_grid_data_path, encoding='cp949')\n",
    "\n",
    "# 격자 X, Y 좌표에 대한 유니크한 값들을 추출합니다.\n",
    "unique_grid_points_df = region_grid_df[['nx', 'ny']].drop_duplicates()\n",
    "\n",
    "# 추출된 유니크한 격자 좌표의 첫 몇 행을 확인합니다.\n",
    "unique_grid_points_df = unique_grid_points_df.reset_index(drop=True)\n",
    "unique_grid_points_df.head()"
   ]
  },
  {
   "cell_type": "code",
   "execution_count": 8,
   "id": "760f86b0",
   "metadata": {},
   "outputs": [],
   "source": [
    "unique_grid_points_df.to_csv(\"unique_grid_points.csv\", index=False, encoding='cp949')"
   ]
  },
  {
   "cell_type": "code",
   "execution_count": 10,
   "id": "6c2118c2",
   "metadata": {},
   "outputs": [],
   "source": [
    "# 지역과 nx, ny 값을 묶어 저장.\n",
    "\n",
    "import pandas as pd\n",
    "\n",
    "# 엑셀 파일 로드 (엑셀 파일 경로를 실제 경로로 수정하세요)\n",
    "grid_excel_path = './기상청41_단기예보 조회서비스_오픈API활용가이드_최종/기상청41_단기예보 조회서비스_오픈API활용가이드_격자_위경도(20231130).xlsx'\n",
    "grid_df = pd.read_excel(grid_excel_path)\n",
    "\n",
    "# '1단계', '2단계' 컬럼을 결합하여 완전한 지역명을 생성합니다.\n",
    "# '2단계'가 NaN인 경우는 제외합니다.\n",
    "grid_df = grid_df.dropna(subset=['2단계'])\n",
    "grid_df['지역명'] = grid_df[['1단계', '2단계']].apply(lambda x: ''.join(x.dropna()), axis=1)\n",
    "\n",
    "# \"격자 X\"와 \"격자 Y\" 컬럼명을 \"nx\"와 \"ny\"로 변경합니다.\n",
    "grid_df.rename(columns={'격자 X': 'nx', '격자 Y': 'ny'}, inplace=True)\n",
    "\n",
    "# 지역명, nx, ny 값을 추출합니다.\n",
    "region_grid_df = grid_df[['지역명', 'nx', 'ny']]\n",
    "\n",
    "# 지역명을 기준으로 중복 제거합니다.\n",
    "region_grid_df = region_grid_df.drop_duplicates(subset=['지역명'])\n",
    "\n",
    "# 추출된 데이터를 cp949 인코딩으로 CSV 파일로 저장합니다.\n",
    "csv_file_path = './기상청41_단기예보 조회서비스_오픈API활용가이드_최종/region_grid_data2.csv'\n",
    "region_grid_df.to_csv(csv_file_path, index=False, encoding='cp949')\n"
   ]
  },
  {
   "cell_type": "code",
   "execution_count": null,
   "id": "319c8d59",
   "metadata": {},
   "outputs": [],
   "source": []
  }
 ],
 "metadata": {
  "kernelspec": {
   "display_name": "TF",
   "language": "python",
   "name": "tensorflow"
  },
  "language_info": {
   "codemirror_mode": {
    "name": "ipython",
    "version": 3
   },
   "file_extension": ".py",
   "mimetype": "text/x-python",
   "name": "python",
   "nbconvert_exporter": "python",
   "pygments_lexer": "ipython3",
   "version": "3.8.16"
  }
 },
 "nbformat": 4,
 "nbformat_minor": 5
}

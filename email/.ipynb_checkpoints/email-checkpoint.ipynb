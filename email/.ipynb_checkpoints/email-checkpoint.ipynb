{
 "cells": [
  {
   "cell_type": "code",
   "execution_count": 3,
   "id": "fccda055",
   "metadata": {},
   "outputs": [
    {
     "ename": "NameError",
     "evalue": "name 'receiver_emails' is not defined",
     "output_type": "error",
     "traceback": [
      "\u001b[1;31m---------------------------------------------------------------------------\u001b[0m",
      "\u001b[1;31mNameError\u001b[0m                                 Traceback (most recent call last)",
      "Cell \u001b[1;32mIn[3], line 25\u001b[0m\n\u001b[0;32m     23\u001b[0m html_template \u001b[38;5;241m=\u001b[39m load_template(\u001b[38;5;124m'\u001b[39m\u001b[38;5;124mhtml.html\u001b[39m\u001b[38;5;124m'\u001b[39m)\n\u001b[0;32m     24\u001b[0m \u001b[38;5;28;01mif\u001b[39;00m text_template \u001b[38;5;129;01mis\u001b[39;00m \u001b[38;5;129;01mnot\u001b[39;00m \u001b[38;5;28;01mNone\u001b[39;00m \u001b[38;5;129;01mand\u001b[39;00m html_template \u001b[38;5;129;01mis\u001b[39;00m \u001b[38;5;129;01mnot\u001b[39;00m \u001b[38;5;28;01mNone\u001b[39;00m:\n\u001b[1;32m---> 25\u001b[0m     \u001b[38;5;28;01mfor\u001b[39;00m receiver_email \u001b[38;5;129;01min\u001b[39;00m \u001b[43mreceiver_emails\u001b[49m:\n\u001b[0;32m     26\u001b[0m         message \u001b[38;5;241m=\u001b[39m create_message(sender_email, receiver_email, subject, text, html)\n\u001b[0;32m     27\u001b[0m         \u001b[38;5;28;01mtry\u001b[39;00m:\n",
      "\u001b[1;31mNameError\u001b[0m: name 'receiver_emails' is not defined"
     ]
    }
   ],
   "source": [
    "def load_template(file_path):\n",
    "    try:\n",
    "        with open(file_path, 'r', encoding='utf-8') as file:  # UTF-8 인코딩으로 파일을 엽니다\n",
    "            return file.read()\n",
    "    except FileNotFoundError:\n",
    "        print(f\"파일을 찾을 수 없습니다: {file_path}\")\n",
    "        return None\n",
    "    except UnicodeDecodeError:\n",
    "        print(f\"파일 인코딩 문제: {file_path}\")\n",
    "        return None\n",
    "\n",
    "def create_message(sender_email, receiver_email, subject, text, html):\n",
    "    message = MIMEMultipart(\"alternative\")\n",
    "    message[\"Subject\"] = subject\n",
    "    message[\"From\"] = sender_email\n",
    "    message[\"To\"] = receiver_email\n",
    "    message.attach(MIMEText(text, \"plain\"))\n",
    "    message.attach(MIMEText(html, \"html\"))\n",
    "    return message\n",
    "\n",
    "# 기존 send_weather_email 함수 내에서 변경된 부분\n",
    "text_template = load_template('text.txt')\n",
    "html_template = load_template('html.html')\n",
    "if text_template is not None and html_template is not None:\n",
    "    for receiver_email in receiver_emails:\n",
    "        message = create_message(sender_email, receiver_email, subject, text, html)\n",
    "        try:\n",
    "            with smtplib.SMTP_SSL(\"smtp.gmail.com\", 465) as server:\n",
    "                server.login(sender_email, password)\n",
    "                server.sendmail(sender_email, receiver_email, message.as_string())\n",
    "                print(f\"{receiver_email}로 이메일 전송 성공\")\n",
    "        except Exception as e:\n",
    "            print(f\"이메일 전송 실패: {e}\")\n"
   ]
  },
  {
   "cell_type": "code",
   "execution_count": 6,
   "id": "a4cdfe48",
   "metadata": {},
   "outputs": [
    {
     "name": "stdout",
     "output_type": "stream",
     "text": [
      "jsfirstsnow@gmail.com로 이메일 전송 성공\n"
     ]
    }
   ],
   "source": [
    "import smtplib\n",
    "from email.mime.text import MIMEText\n",
    "from email.mime.multipart import MIMEMultipart\n",
    "\n",
    "# 사용예시\n",
    "with open('credentials.txt', 'r') as file:\n",
    "    sender_email = file.readline().strip()  # 발신자 이메일 주소\n",
    "    password = file.readline().strip()  # 발신자 이메일 비밀번호\n",
    "\n",
    "with open('receivers.txt', 'r') as file:\n",
    "    receivers = file.read().splitlines()  # 수신자 이메일 주소 목록\n",
    "\n",
    "def load_template(file_path):\n",
    "    try:\n",
    "        with open(file_path, 'r', encoding='utf-8') as file:  # UTF-8 인코딩으로 파일을 엽니다\n",
    "            return file.read()\n",
    "    except FileNotFoundError:\n",
    "        print(f\"파일을 찾을 수 없습니다: {file_path}\")\n",
    "        return None\n",
    "    except UnicodeDecodeError:\n",
    "        print(f\"파일 인코딩 문제: {file_path}\")\n",
    "        return None\n",
    "\n",
    "def create_message(sender_email, receiver_email, subject, text, html):\n",
    "    message = MIMEMultipart(\"alternative\")\n",
    "    message[\"Subject\"] = subject\n",
    "    message[\"From\"] = sender_email\n",
    "    message[\"To\"] = receiver_email\n",
    "    message.attach(MIMEText(text, \"plain\"))\n",
    "    message.attach(MIMEText(html, \"html\"))\n",
    "    return message\n",
    "\n",
    "# 기존 send_weather_email 함수 내에서 변경된 부분\n",
    "text_template = load_template('text.txt')\n",
    "html_template = load_template('html.html')\n",
    "subject = \"서울 지역 폭우 예보 알림\"\n",
    "location = \"서울\"\n",
    "weather_condition = \"폭우\"\n",
    "\n",
    "# 문자열 포매팅을 사용하여 실제 값으로 대체\n",
    "\n",
    "if text_template is not None and html_template is not None:\n",
    "    for receiver_email in receivers:\n",
    "        # 문자열 포매팅을 적용하여 실제 값으로 대체\n",
    "        text = text_template.format(location=location, weather_condition=weather_condition)\n",
    "        html = html_template.format(location=location, weather_condition=weather_condition)\n",
    "        \n",
    "        message = create_message(sender_email, receiver_email, subject, text, html)\n",
    "        try:\n",
    "            with smtplib.SMTP_SSL(\"smtp.gmail.com\", 465) as server:\n",
    "                server.login(sender_email, password)\n",
    "                server.sendmail(sender_email, receiver_email, message.as_string())\n",
    "                print(f\"{receiver_email}로 이메일 전송 성공\")\n",
    "        except Exception as e:\n",
    "            print(f\"이메일 전송 실패: {e}\")\n",
    "\n"
   ]
  },
  {
   "cell_type": "code",
   "execution_count": null,
   "id": "5af9c77c",
   "metadata": {},
   "outputs": [],
   "source": []
  }
 ],
 "metadata": {
  "kernelspec": {
   "display_name": "Python 3 (ipykernel)",
   "language": "python",
   "name": "python3"
  },
  "language_info": {
   "codemirror_mode": {
    "name": "ipython",
    "version": 3
   },
   "file_extension": ".py",
   "mimetype": "text/x-python",
   "name": "python",
   "nbconvert_exporter": "python",
   "pygments_lexer": "ipython3",
   "version": "3.8.16"
  }
 },
 "nbformat": 4,
 "nbformat_minor": 5
}
